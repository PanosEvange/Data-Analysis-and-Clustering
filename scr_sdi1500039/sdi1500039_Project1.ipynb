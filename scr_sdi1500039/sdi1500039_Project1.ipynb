{
 "cells": [
  {
   "cell_type": "markdown",
   "metadata": {},
   "source": [
    "# <center>Data Mining Project 2 Spring semester 2018-2019</center>\n",
    "## <center>Παναγιώτης Ευαγγελίου &emsp; 1115201500039</center>\n",
    "## <center>Ευάγγελος Σπίθας &emsp;&emsp;&emsp;&ensp; 1115201500147</center>"
   ]
  },
  {
   "cell_type": "markdown",
   "metadata": {},
   "source": [
    "___"
   ]
  },
  {
   "cell_type": "markdown",
   "metadata": {},
   "source": [
    "## Do all the necessary imports for this notebook"
   ]
  },
  {
   "cell_type": "code",
   "execution_count": 1,
   "metadata": {
    "ExecuteTime": {
     "end_time": "2019-05-23T12:34:33.589846Z",
     "start_time": "2019-05-23T12:34:32.854140Z"
    }
   },
   "outputs": [],
   "source": [
    "import numpy as np\n",
    "import pandas as pd\n",
    "import calendar\n",
    "\n",
    "# visualization\n",
    "import seaborn as sns\n",
    "import matplotlib.pyplot as plt\n",
    "%matplotlib inline"
   ]
  },
  {
   "cell_type": "markdown",
   "metadata": {},
   "source": [
    "## __Read data__"
   ]
  },
  {
   "cell_type": "code",
   "execution_count": 2,
   "metadata": {
    "ExecuteTime": {
     "end_time": "2019-05-23T12:34:40.618346Z",
     "start_time": "2019-05-23T12:34:33.592761Z"
    }
   },
   "outputs": [],
   "source": [
    "initialDataFrame = pd.read_csv('../data/crime.csv', engine='python')\n",
    "\n",
    "# initialDataFrame # printToBeRemoved"
   ]
  },
  {
   "cell_type": "markdown",
   "metadata": {},
   "source": [
    "## __Do some data preparation__"
   ]
  },
  {
   "cell_type": "code",
   "execution_count": 3,
   "metadata": {
    "ExecuteTime": {
     "end_time": "2019-05-23T12:34:40.883974Z",
     "start_time": "2019-05-23T12:34:40.620541Z"
    }
   },
   "outputs": [
    {
     "data": {
      "text/plain": [
       "array(['Ν', 'Y'], dtype=object)"
      ]
     },
     "execution_count": 3,
     "metadata": {},
     "output_type": "execute_result"
    }
   ],
   "source": [
    "# drop the columns that we don't need\n",
    "processedDataFrame = initialDataFrame.drop(['Location'], axis=1)\n",
    "\n",
    "# replace some NaN values\n",
    "processedDataFrame = processedDataFrame.fillna({'SHOOTING':\"Ν\"})\n",
    "\n",
    "processedDataFrame['SHOOTING'].unique()  # printToBeRemoved"
   ]
  },
  {
   "cell_type": "markdown",
   "metadata": {},
   "source": [
    "## __Data Research__"
   ]
  },
  {
   "cell_type": "markdown",
   "metadata": {},
   "source": [
    "1. #### Multitude of crimes by year, by month, by date and by district"
   ]
  },
  {
   "cell_type": "code",
   "execution_count": 4,
   "metadata": {
    "ExecuteTime": {
     "end_time": "2019-05-23T12:34:43.297405Z",
     "start_time": "2019-05-23T12:34:40.885744Z"
    },
    "lines_to_next_cell": 0
   },
   "outputs": [
    {
     "name": "stdout",
     "output_type": "stream",
     "text": [
      "Count by year:\n",
      "YEAR\n",
      "2015     53392\n",
      "2016     99134\n",
      "2017    100938\n",
      "2018     74356\n",
      "Name: INCIDENT_NUMBER, dtype: int64\n",
      "--------------\n",
      "Count by month:\n",
      "MONTH\n",
      "Apr    24108\n",
      "Aug    35137\n",
      "Dec    23484\n",
      "Feb    21661\n",
      "Jan    23625\n",
      "Jul    34640\n",
      "Jun    30622\n",
      "Mar    24156\n",
      "May    26242\n",
      "Nov    23685\n",
      "Oct    26437\n",
      "Sep    34023\n",
      "Name: INCIDENT_NUMBER, dtype: int64\n",
      "--------------\n",
      "Count by day:\n",
      "DAY_OF_WEEK\n",
      "Friday       49758\n",
      "Monday       46970\n",
      "Saturday     45969\n",
      "Sunday       41374\n",
      "Thursday     47872\n",
      "Tuesday      47726\n",
      "Wednesday    48151\n",
      "Name: INCIDENT_NUMBER, dtype: int64\n",
      "--------------\n",
      "Count by district:\n",
      "DISTRICT\n",
      "A1     36735\n",
      "A15     6663\n",
      "A7     13634\n",
      "B2     51288\n",
      "B3     36400\n",
      "C11    43817\n",
      "C6     24190\n",
      "D14    20632\n",
      "D4     43338\n",
      "E13    17981\n",
      "E18    17825\n",
      "E5     13543\n",
      "Name: INCIDENT_NUMBER, dtype: int64\n",
      "--------------\n"
     ]
    }
   ],
   "source": [
    "# groupBy year\n",
    "# yearMultitudeDf = processedDataFrame.groupby(['YEAR']).count() # to be removed\n",
    "yearMultitudeSeries = processedDataFrame.groupby(['YEAR'])['INCIDENT_NUMBER'].count()\n",
    "\n",
    "# replace month numbers to month names\n",
    "monthMultitudeDf = processedDataFrame.copy()\n",
    "monthMultitudeDf['MONTH'] = monthMultitudeDf['MONTH'].apply(lambda x: calendar.month_abbr[x])\n",
    "\n",
    "# groupBy month\n",
    "monthMultitudeSeries = monthMultitudeDf.groupby(['MONTH'])['INCIDENT_NUMBER'].count()\n",
    "# monthMultitudeDf = monthMultitudeDf.groupby(['MONTH']).count() # to be removed\n",
    "\n",
    "# groupBy day\n",
    "# dayMultitudeDf = processedDataFrame.groupby(['DAY_OF_WEEK']).count() # to be removed\n",
    "dayMultitudeSeries = processedDataFrame.groupby(['DAY_OF_WEEK'])['INCIDENT_NUMBER'].count()\n",
    "\n",
    "# groupBy district\n",
    "# districtMultitudeDf = processedDataFrame.groupby(['DISTRICT']).count() # to be removed\n",
    "districtMultitudeSeries = processedDataFrame.groupby(['DISTRICT'])['INCIDENT_NUMBER'].count()\n",
    "\n",
    "print(\"Count by year:\")  # printToBeRemoved\n",
    "print(yearMultitudeSeries)  # printToBeRemoved\n",
    "print(\"--------------\")  # printToBeRemoved\n",
    "\n",
    "print(\"Count by month:\")  # printToBeRemoved\n",
    "print(monthMultitudeSeries)  # printToBeRemoved\n",
    "print(\"--------------\")  # printToBeRemoved\n",
    "\n",
    "print(\"Count by day:\")  # printToBeRemoved\n",
    "print(dayMultitudeSeries)  # printToBeRemoved\n",
    "print(\"--------------\")  # printToBeRemoved\n",
    "\n",
    "print(\"Count by district:\")  # printToBeRemoved\n",
    "print(districtMultitudeSeries)  # printToBeRemoved\n",
    "print(\"--------------\")  # printToBeRemoved"
   ]
  },
  {
   "cell_type": "code",
   "execution_count": null,
   "metadata": {
    "lines_to_next_cell": 2
   },
   "outputs": [],
   "source": []
  }
 ],
 "metadata": {
  "jupytext": {
   "cell_markers": "region,endregion",
   "formats": "ipynb,py:light"
  },
  "kernelspec": {
   "display_name": "Python 3",
   "language": "python",
   "name": "python3"
  },
  "language_info": {
   "codemirror_mode": {
    "name": "ipython",
    "version": 3
   },
   "file_extension": ".py",
   "mimetype": "text/x-python",
   "name": "python",
   "nbconvert_exporter": "python",
   "pygments_lexer": "ipython3",
   "version": "3.7.3"
  },
  "pycharm": {
   "stem_cell": {
    "cell_type": "raw",
    "metadata": {
     "collapsed": false
    },
    "source": []
   }
  }
 },
 "nbformat": 4,
 "nbformat_minor": 2
}
