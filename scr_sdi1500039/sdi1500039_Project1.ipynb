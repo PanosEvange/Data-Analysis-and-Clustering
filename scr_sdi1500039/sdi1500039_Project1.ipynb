{
 "cells": [
  {
   "cell_type": "markdown",
   "metadata": {},
   "source": [
    "# <center>Data Mining Project 2 Spring semester 2018-2019</center>\n",
    "## <center>Παναγιώτης Ευαγγελίου &emsp; 1115201500039</center>\n",
    "## <center>Ευάγγελος Σπίθας &emsp;&emsp;&emsp;&ensp; 1115201500147</center>"
   ]
  },
  {
   "cell_type": "markdown",
   "metadata": {},
   "source": [
    "___"
   ]
  },
  {
   "cell_type": "markdown",
   "metadata": {},
   "source": [
    "## Do all the necessary imports for this notebook"
   ]
  },
  {
   "cell_type": "code",
   "execution_count": 1,
   "metadata": {
    "ExecuteTime": {
     "end_time": "2019-05-23T15:52:21.359838Z",
     "start_time": "2019-05-23T15:52:20.641507Z"
    }
   },
   "outputs": [],
   "source": [
    "import numpy as np\n",
    "import pandas as pd\n",
    "import calendar\n",
    "\n",
    "# visualization\n",
    "import seaborn as sns\n",
    "import matplotlib.pyplot as plt\n",
    "%matplotlib inline"
   ]
  },
  {
   "cell_type": "markdown",
   "metadata": {},
   "source": [
    "## __Read data__"
   ]
  },
  {
   "cell_type": "code",
   "execution_count": 2,
   "metadata": {
    "ExecuteTime": {
     "end_time": "2019-05-23T15:52:28.368996Z",
     "start_time": "2019-05-23T15:52:21.362642Z"
    }
   },
   "outputs": [],
   "source": [
    "initialDataFrame = pd.read_csv('../data/crime.csv', engine='python')\n",
    "\n",
    "# initialDataFrame # printToBeRemoved"
   ]
  },
  {
   "cell_type": "markdown",
   "metadata": {},
   "source": [
    "## __Do some data preparation__"
   ]
  },
  {
   "cell_type": "code",
   "execution_count": 3,
   "metadata": {
    "ExecuteTime": {
     "end_time": "2019-05-23T15:52:28.630413Z",
     "start_time": "2019-05-23T15:52:28.371898Z"
    }
   },
   "outputs": [
    {
     "data": {
      "text/plain": [
       "array(['N', 'Y'], dtype=object)"
      ]
     },
     "execution_count": 3,
     "metadata": {},
     "output_type": "execute_result"
    }
   ],
   "source": [
    "# drop the columns that we don't need\n",
    "processedDataFrame = initialDataFrame.drop(['Location'], axis=1)\n",
    "\n",
    "# replace some NaN values\n",
    "processedDataFrame = processedDataFrame.fillna({'SHOOTING': \"N\"})\n",
    "\n",
    "processedDataFrame['SHOOTING'].unique()  # printToBeRemoved"
   ]
  },
  {
   "cell_type": "markdown",
   "metadata": {},
   "source": [
    "## __Data Research__"
   ]
  },
  {
   "cell_type": "markdown",
   "metadata": {},
   "source": [
    "1. #### Count of crimes per year, per month, per date and per district"
   ]
  },
  {
   "cell_type": "code",
   "execution_count": 4,
   "metadata": {
    "ExecuteTime": {
     "end_time": "2019-05-23T15:52:30.969022Z",
     "start_time": "2019-05-23T15:52:28.637330Z"
    }
   },
   "outputs": [
    {
     "name": "stdout",
     "output_type": "stream",
     "text": [
      "Count by year:\n",
      "YEAR\n",
      "2015     53392\n",
      "2016     99134\n",
      "2017    100938\n",
      "2018     74356\n",
      "Name: INCIDENT_NUMBER, dtype: int64\n",
      "--------------\n",
      "Count by month:\n",
      "MONTH\n",
      "Apr    24108\n",
      "Aug    35137\n",
      "Dec    23484\n",
      "Feb    21661\n",
      "Jan    23625\n",
      "Jul    34640\n",
      "Jun    30622\n",
      "Mar    24156\n",
      "May    26242\n",
      "Nov    23685\n",
      "Oct    26437\n",
      "Sep    34023\n",
      "Name: INCIDENT_NUMBER, dtype: int64\n",
      "--------------\n",
      "Count by day:\n",
      "DAY_OF_WEEK\n",
      "Friday       49758\n",
      "Monday       46970\n",
      "Saturday     45969\n",
      "Sunday       41374\n",
      "Thursday     47872\n",
      "Tuesday      47726\n",
      "Wednesday    48151\n",
      "Name: INCIDENT_NUMBER, dtype: int64\n",
      "--------------\n",
      "Count by district:\n",
      "DISTRICT\n",
      "A1     36735\n",
      "A15     6663\n",
      "A7     13634\n",
      "B2     51288\n",
      "B3     36400\n",
      "C11    43817\n",
      "C6     24190\n",
      "D14    20632\n",
      "D4     43338\n",
      "E13    17981\n",
      "E18    17825\n",
      "E5     13543\n",
      "Name: INCIDENT_NUMBER, dtype: int64\n",
      "--------------\n"
     ]
    }
   ],
   "source": [
    "# groupBy year\n",
    "# yearCountDf = processedDataFrame.groupby(['YEAR']).count() # to be removed\n",
    "yearCountSeries = processedDataFrame.groupby(['YEAR'])['INCIDENT_NUMBER'].count()\n",
    "\n",
    "# replace month numbers to month names\n",
    "monthCountDf = processedDataFrame.copy()\n",
    "monthCountDf['MONTH'] = monthCountDf['MONTH'].apply(lambda x: calendar.month_abbr[x])\n",
    "\n",
    "# groupBy month\n",
    "monthCountSeries = monthCountDf.groupby(['MONTH'])['INCIDENT_NUMBER'].count()\n",
    "# monthCountDf = monthCountDf.groupby(['MONTH']).count() # to be removed\n",
    "\n",
    "# groupBy day\n",
    "# dayCountDf = processedDataFrame.groupby(['DAY_OF_WEEK']).count() # to be removed\n",
    "dayCountSeries = processedDataFrame.groupby(['DAY_OF_WEEK'])['INCIDENT_NUMBER'].count()\n",
    "\n",
    "# groupBy district\n",
    "# districtCountDf = processedDataFrame.groupby(['DISTRICT']).count() # to be removed\n",
    "districtCountSeries = processedDataFrame.groupby(['DISTRICT'])['INCIDENT_NUMBER'].count()\n",
    "\n",
    "print(\"Count by year:\")  # printToBeRemoved\n",
    "print(yearCountSeries)  # printToBeRemoved\n",
    "print(\"--------------\")  # printToBeRemoved\n",
    "\n",
    "print(\"Count by month:\")  # printToBeRemoved\n",
    "print(monthCountSeries)  # printToBeRemoved\n",
    "print(\"--------------\")  # printToBeRemoved\n",
    "\n",
    "print(\"Count by day:\")  # printToBeRemoved\n",
    "print(dayCountSeries)  # printToBeRemoved\n",
    "print(\"--------------\")  # printToBeRemoved\n",
    "\n",
    "print(\"Count by district:\")  # printToBeRemoved\n",
    "print(districtCountSeries)  # printToBeRemoved\n",
    "print(\"--------------\")  # printToBeRemoved\n",
    "\n",
    "# for distr, count in districtCountSeries.items():\n",
    "#     print(\"District: \", distr, \" has \", count, \" crimes!\")"
   ]
  },
  {
   "cell_type": "markdown",
   "metadata": {},
   "source": [
    "2. #### Find the maximum count of shootings by year and by district"
   ]
  },
  {
   "cell_type": "code",
   "execution_count": 5,
   "metadata": {
    "ExecuteTime": {
     "end_time": "2019-05-23T15:52:31.296556Z",
     "start_time": "2019-05-23T15:52:30.970625Z"
    }
   },
   "outputs": [
    {
     "name": "stdout",
     "output_type": "stream",
     "text": [
      "Shootings by year:\n",
      "YEAR\n",
      "2015    185\n",
      "2016    279\n",
      "2017    371\n",
      "2018    220\n",
      "Name: SHOOTING, dtype: int64\n",
      "Max year is:\n",
      "YEAR\n",
      "2017    371\n",
      "Name: SHOOTING, dtype: int64\n",
      "--------------\n",
      "Shootings by district:\n",
      "DISTRICT\n",
      "A1      12\n",
      "A15      5\n",
      "A7      17\n",
      "B2     352\n",
      "B3     227\n",
      "C11    195\n",
      "C6      41\n",
      "D14     21\n",
      "D4      59\n",
      "E13     70\n",
      "E18     35\n",
      "E5      19\n",
      "Name: SHOOTING, dtype: int64\n",
      "Max district is:\n",
      "DISTRICT\n",
      "B2    352\n",
      "Name: SHOOTING, dtype: int64\n",
      "--------------\n"
     ]
    }
   ],
   "source": [
    "# replace Y -> 1, N -> 0 so as we can sum the shootings\n",
    "shootingDataFrame = processedDataFrame.copy()\n",
    "shootingDataFrame['SHOOTING'] = shootingDataFrame['SHOOTING'].map(dict(Y=1, N=0))\n",
    "\n",
    "# groupBy year\n",
    "yearShootings = shootingDataFrame.groupby(['YEAR'])['SHOOTING'].sum()\n",
    "\n",
    "# groupBy district\n",
    "districtShootings = shootingDataFrame.groupby(['DISTRICT'])['SHOOTING'].sum()\n",
    "\n",
    "print(\"Shootings by year:\")  # printToBeRemoved\n",
    "print(yearShootings)  # printToBeRemoved\n",
    "print(\"Max year is:\")  # printToBeRemoved\n",
    "print(yearShootings[yearShootings == yearShootings.max()])  # printToBeRemoved\n",
    "print(\"--------------\")  # printToBeRemoved\n",
    "print(\"Shootings by district:\")  # printToBeRemoved\n",
    "print(districtShootings)  # printToBeRemoved\n",
    "print(\"Max district is:\")  # printToBeRemoved\n",
    "print(districtShootings[districtShootings == districtShootings.max()])  # printToBeRemoved\n",
    "print(\"--------------\")  # printToBeRemoved"
   ]
  },
  {
   "cell_type": "markdown",
   "metadata": {},
   "source": [
    "3. #### Check if crimes are more during the day than during the night"
   ]
  },
  {
   "cell_type": "code",
   "execution_count": 6,
   "metadata": {
    "ExecuteTime": {
     "end_time": "2019-05-23T15:52:31.523145Z",
     "start_time": "2019-05-23T15:52:31.298156Z"
    }
   },
   "outputs": [
    {
     "name": "stdout",
     "output_type": "stream",
     "text": [
      "Count of crimes during day is:\n",
      "184268\n",
      "Count of crimes during night is:\n",
      "143552\n"
     ]
    }
   ],
   "source": [
    "# make new column that represents day or night\n",
    "dayNightDataFrame = processedDataFrame.copy()\n",
    "dayNightDataFrame['DAY_NIGHT'] = np.where(((dayNightDataFrame['HOUR'] >= 7) & (dayNightDataFrame['HOUR'] <= 17)),\n",
    "                                          'day', 'night')\n",
    "\n",
    "dayCrimesCount = (dayNightDataFrame['DAY_NIGHT'] == 'day').sum()\n",
    "nightCrimesCount = (dayNightDataFrame['DAY_NIGHT'] == 'night').sum()\n",
    "\n",
    "print(\"Count of crimes during day is:\")  # printToBeRemoved\n",
    "print(dayCrimesCount)  # printToBeRemoved\n",
    "\n",
    "print(\"Count of crimes during night is:\")  # printToBeRemoved\n",
    "print(nightCrimesCount)  # printToBeRemoved\n",
    "\n",
    "# dayNightDataFrame  # printToBeRemoved"
   ]
  },
  {
   "cell_type": "markdown",
   "metadata": {},
   "source": [
    "4. #### Find the most common type of crime that is committed during the day"
   ]
  },
  {
   "cell_type": "code",
   "execution_count": 7,
   "metadata": {
    "ExecuteTime": {
     "end_time": "2019-05-23T15:52:32.151955Z",
     "start_time": "2019-05-23T15:52:31.524857Z"
    }
   },
   "outputs": [
    {
     "name": "stdout",
     "output_type": "stream",
     "text": [
      "the most common type of crime that is committed during the day is  0    Motor Vehicle Accident Response\n",
      "dtype: object\n",
      "OFFENSE_CODE_GROUP\n",
      "Motor Vehicle Accident Response    21852\n",
      "Name: INCIDENT_NUMBER, dtype: int64\n"
     ]
    }
   ],
   "source": [
    "# make a dataFrame that is consisted only of crimes that are committed during the day\n",
    "onlyDayCrimes = dayNightDataFrame.copy()\n",
    "onlyDayCrimes = onlyDayCrimes[(onlyDayCrimes['DAY_NIGHT'] == \"day\")]\n",
    "\n",
    "# if we need only the name of the code then we can do the following\n",
    "mostCommonOffenseCode = onlyDayCrimes['OFFENSE_CODE_GROUP'].mode()\n",
    "\n",
    "# if we want to know the count of crimes of this type then\n",
    "# groupBy by offense_code\n",
    "codeCount = onlyDayCrimes.groupby(['OFFENSE_CODE_GROUP'])['INCIDENT_NUMBER'].count()\n",
    "\n",
    "print(\"the most common type of crime that is committed during the day is \", mostCommonOffenseCode)\n",
    "print(codeCount[codeCount == codeCount.max()])\n",
    "# onlyDayCrimes  # printToBeRemoved"
   ]
  }
 ],
 "metadata": {
  "jupytext": {
   "cell_markers": "region,endregion",
   "formats": "ipynb,py:light"
  },
  "kernelspec": {
   "display_name": "Python 3",
   "language": "python",
   "name": "python3"
  },
  "language_info": {
   "codemirror_mode": {
    "name": "ipython",
    "version": 3
   },
   "file_extension": ".py",
   "mimetype": "text/x-python",
   "name": "python",
   "nbconvert_exporter": "python",
   "pygments_lexer": "ipython3",
   "version": "3.7.3"
  },
  "pycharm": {
   "stem_cell": {
    "cell_type": "raw",
    "metadata": {
     "collapsed": false
    },
    "source": []
   }
  }
 },
 "nbformat": 4,
 "nbformat_minor": 2
}
